{
 "cells": [
  {
   "cell_type": "markdown",
   "id": "a5b2866d-c7e2-430f-a6f3-835eca7c1db2",
   "metadata": {},
   "source": [
    "2 JULY ASSESSMENT - IRIS"
   ]
  },
  {
   "cell_type": "code",
   "execution_count": 85,
   "id": "76c0dae1-15e6-4ef8-b23e-bccbda23455d",
   "metadata": {},
   "outputs": [
    {
     "data": {
      "text/html": [
       "<div>\n",
       "<style scoped>\n",
       "    .dataframe tbody tr th:only-of-type {\n",
       "        vertical-align: middle;\n",
       "    }\n",
       "\n",
       "    .dataframe tbody tr th {\n",
       "        vertical-align: top;\n",
       "    }\n",
       "\n",
       "    .dataframe thead th {\n",
       "        text-align: right;\n",
       "    }\n",
       "</style>\n",
       "<table border=\"1\" class=\"dataframe\">\n",
       "  <thead>\n",
       "    <tr style=\"text-align: right;\">\n",
       "      <th></th>\n",
       "      <th>Sepal Length</th>\n",
       "      <th>Sepal Width</th>\n",
       "      <th>Petal Length</th>\n",
       "      <th>Petal Width</th>\n",
       "      <th>Class</th>\n",
       "      <th>Unnamed: 5</th>\n",
       "      <th>Unnamed: 6</th>\n",
       "      <th>alpha</th>\n",
       "      <th>obj</th>\n",
       "      <th>Unnamed: 9</th>\n",
       "      <th>Unnamed: 10</th>\n",
       "    </tr>\n",
       "  </thead>\n",
       "  <tbody>\n",
       "    <tr>\n",
       "      <th>0</th>\n",
       "      <td>7.0</td>\n",
       "      <td>3.2</td>\n",
       "      <td>4.7</td>\n",
       "      <td>1.4</td>\n",
       "      <td>Iris-versicolor</td>\n",
       "      <td>NaN</td>\n",
       "      <td>0.0</td>\n",
       "      <td>0.0</td>\n",
       "      <td>0.0</td>\n",
       "      <td>0</td>\n",
       "      <td>1</td>\n",
       "    </tr>\n",
       "    <tr>\n",
       "      <th>1</th>\n",
       "      <td>6.4</td>\n",
       "      <td>3.2</td>\n",
       "      <td>4.5</td>\n",
       "      <td>1.5</td>\n",
       "      <td>Iris-versicolor</td>\n",
       "      <td>NaN</td>\n",
       "      <td>0.0</td>\n",
       "      <td>NaN</td>\n",
       "      <td>NaN</td>\n",
       "      <td>0</td>\n",
       "      <td>1</td>\n",
       "    </tr>\n",
       "    <tr>\n",
       "      <th>2</th>\n",
       "      <td>6.9</td>\n",
       "      <td>3.1</td>\n",
       "      <td>4.9</td>\n",
       "      <td>1.5</td>\n",
       "      <td>Iris-versicolor</td>\n",
       "      <td>NaN</td>\n",
       "      <td>0.0</td>\n",
       "      <td>NaN</td>\n",
       "      <td>NaN</td>\n",
       "      <td>0</td>\n",
       "      <td>1</td>\n",
       "    </tr>\n",
       "    <tr>\n",
       "      <th>3</th>\n",
       "      <td>5.5</td>\n",
       "      <td>2.3</td>\n",
       "      <td>4.0</td>\n",
       "      <td>1.3</td>\n",
       "      <td>Iris-versicolor</td>\n",
       "      <td>NaN</td>\n",
       "      <td>0.0</td>\n",
       "      <td>NaN</td>\n",
       "      <td>NaN</td>\n",
       "      <td>0</td>\n",
       "      <td>1</td>\n",
       "    </tr>\n",
       "    <tr>\n",
       "      <th>4</th>\n",
       "      <td>6.5</td>\n",
       "      <td>2.8</td>\n",
       "      <td>4.6</td>\n",
       "      <td>1.5</td>\n",
       "      <td>Iris-versicolor</td>\n",
       "      <td>NaN</td>\n",
       "      <td>NaN</td>\n",
       "      <td>NaN</td>\n",
       "      <td>NaN</td>\n",
       "      <td>0</td>\n",
       "      <td>1</td>\n",
       "    </tr>\n",
       "  </tbody>\n",
       "</table>\n",
       "</div>"
      ],
      "text/plain": [
       "   Sepal Length   Sepal Width   Petal Length   Petal Width             Class  \\\n",
       "0            7.0           3.2            4.7           1.4  Iris-versicolor   \n",
       "1            6.4           3.2            4.5           1.5  Iris-versicolor   \n",
       "2            6.9           3.1            4.9           1.5  Iris-versicolor   \n",
       "3            5.5           2.3            4.0           1.3  Iris-versicolor   \n",
       "4            6.5           2.8            4.6           1.5  Iris-versicolor   \n",
       "\n",
       "   Unnamed: 5  Unnamed: 6  alpha  obj  Unnamed: 9  Unnamed: 10  \n",
       "0         NaN         0.0    0.0  0.0           0            1  \n",
       "1         NaN         0.0    NaN  NaN           0            1  \n",
       "2         NaN         0.0    NaN  NaN           0            1  \n",
       "3         NaN         0.0    NaN  NaN           0            1  \n",
       "4         NaN         NaN    NaN  NaN           0            1  "
      ]
     },
     "execution_count": 85,
     "metadata": {},
     "output_type": "execute_result"
    }
   ],
   "source": [
    "import pandas as pd\n",
    "import seaborn as sns\n",
    "import matplotlib.pyplot as plt\n",
    "import numpy as np\n",
    "path=(r\"C:\\Users\\swarn\\OneDrive\\Desktop\\iris12.csv\")\n",
    "df=pd.read_csv(path)\n",
    "df.head()"
   ]
  },
  {
   "cell_type": "code",
   "execution_count": 87,
   "id": "8229b41a-91f6-44c2-a44f-870620f309aa",
   "metadata": {},
   "outputs": [
    {
     "name": "stdout",
     "output_type": "stream",
     "text": [
      "   Sepal Length   Sepal Width   Petal Length   Petal Width             Class  \\\n",
      "0            7.0           3.2            4.7           1.4  Iris-versicolor   \n",
      "1            6.4           3.2            4.5           1.5  Iris-versicolor   \n",
      "2            6.9           3.1            4.9           1.5  Iris-versicolor   \n",
      "3            5.5           2.3            4.0           1.3  Iris-versicolor   \n",
      "4            6.5           2.8            4.6           1.5  Iris-versicolor   \n",
      "5            5.7           2.8            4.5           1.3  Iris-versicolor   \n",
      "6            6.3           3.3            4.7           1.6  Iris-versicolor   \n",
      "7            4.9           2.4            3.3           1.0  Iris-versicolor   \n",
      "\n",
      "   Unnamed: 5  Unnamed: 6  alpha  obj  Unnamed: 9  Unnamed: 10  \n",
      "0         NaN         0.0    0.0  0.0           0            1  \n",
      "1         NaN         0.0    NaN  NaN           0            1  \n",
      "2         NaN         0.0    NaN  NaN           0            1  \n",
      "3         NaN         0.0    NaN  NaN           0            1  \n",
      "4         NaN         NaN    NaN  NaN           0            1  \n",
      "5         NaN         NaN    NaN  NaN           0            1  \n",
      "6         NaN         NaN    NaN  NaN           0            1  \n",
      "7         NaN         NaN    NaN  NaN           0            1  \n"
     ]
    }
   ],
   "source": [
    "top_8_rows = data.head(8)\n",
    "print(top_8_rows)"
   ]
  },
  {
   "cell_type": "code",
   "execution_count": 89,
   "id": "f822d3f8-2caa-4f4b-a97a-cd995303217c",
   "metadata": {},
   "outputs": [
    {
     "name": "stdout",
     "output_type": "stream",
     "text": [
      "    Sepal Length   Sepal Width   Petal Length   Petal Width             Class  \\\n",
      "91            4.5           2.3            1.3           0.3      Iris-setosa   \n",
      "7             4.9           2.4            3.3           1.0  Iris-versicolor   \n",
      "57            5.0           3.4            1.5           0.2      Iris-setosa   \n",
      "71            5.1           3.7            1.5           0.4      Iris-setosa   \n",
      "95            4.8           3.0            1.4           0.3      Iris-setosa   \n",
      "47            6.2           2.9            4.3           1.3  Iris-versicolor   \n",
      "27            6.7           3.0            5.0           1.7  Iris-versicolor   \n",
      "61            4.8           3.4            1.6           0.2      Iris-setosa   \n",
      "37            6.3           2.3            4.4           1.3  Iris-versicolor   \n",
      "13            6.1           2.9            4.7           1.4  Iris-versicolor   \n",
      "19            5.6           2.5            3.9           1.1  Iris-versicolor   \n",
      "65            5.7           4.4            1.5           0.4      Iris-setosa   \n",
      "97            4.6           3.2            1.4           0.2      Iris-setosa   \n",
      "67            5.1           3.5            1.4           0.3      Iris-setosa   \n",
      "25            6.6           3.0            4.4           1.4  Iris-versicolor   \n",
      "79            4.7           3.2            1.6           0.2      Iris-setosa   \n",
      "51            4.9           3.0            1.4           0.2      Iris-setosa   \n",
      "17            5.8           2.7            4.1           1.0  Iris-versicolor   \n",
      "81            5.4           3.4            1.5           0.4      Iris-setosa   \n",
      "43            5.0           2.3            3.3           1.0  Iris-versicolor   \n",
      "87            4.9           3.1            1.5           0.1      Iris-setosa   \n",
      "49            5.7           2.8            4.1           1.3  Iris-versicolor   \n",
      "9             5.2           2.7            3.9           1.4  Iris-versicolor   \n",
      "23            6.1           2.8            4.7           1.2  Iris-versicolor   \n",
      "53            4.6           3.1            1.5           0.2      Iris-setosa   \n",
      "1             6.4           3.2            4.5           1.5  Iris-versicolor   \n",
      "59            4.9           3.1            1.5           0.1      Iris-setosa   \n",
      "77            5.2           3.5            1.5           0.2      Iris-setosa   \n",
      "15            6.7           3.1            4.4           1.4  Iris-versicolor   \n",
      "99            5.0           3.3            1.4           0.2      Iris-setosa   \n",
      "83            5.5           4.2            1.4           0.2      Iris-setosa   \n",
      "3             5.5           2.3            4.0           1.3  Iris-versicolor   \n",
      "29            5.7           2.6            3.5           1.0  Iris-versicolor   \n",
      "89            5.1           3.4            1.5           0.2      Iris-setosa   \n",
      "35            6.0           3.4            4.5           1.6  Iris-versicolor   \n",
      "41            6.1           3.0            4.6           1.4  Iris-versicolor   \n",
      "31            5.5           2.4            3.7           1.0  Iris-versicolor   \n",
      "69            5.1           3.8            1.5           0.3      Iris-setosa   \n",
      "85            5.0           3.2            1.2           0.2      Iris-setosa   \n",
      "73            5.1           3.3            1.7           0.5      Iris-setosa   \n",
      "63            4.3           3.0            1.1           0.1      Iris-setosa   \n",
      "5             5.7           2.8            4.5           1.3  Iris-versicolor   \n",
      "45            5.7           3.0            4.2           1.2  Iris-versicolor   \n",
      "33            6.0           2.7            5.1           1.6  Iris-versicolor   \n",
      "93            5.0           3.5            1.6           0.6      Iris-setosa   \n",
      "11            5.9           3.0            4.2           1.5  Iris-versicolor   \n",
      "21            6.1           2.8            4.0           1.3  Iris-versicolor   \n",
      "39            5.5           2.5            4.0           1.3  Iris-versicolor   \n",
      "55            5.4           3.9            1.7           0.4      Iris-setosa   \n",
      "75            5.0           3.0            1.6           0.2      Iris-setosa   \n",
      "\n",
      "    Unnamed: 5  Unnamed: 6  alpha  obj  Unnamed: 9  Unnamed: 10  \n",
      "91         NaN         NaN    NaN  NaN           0            1  \n",
      "7          NaN         NaN    NaN  NaN           0            1  \n",
      "57         NaN         NaN    NaN  NaN           0            1  \n",
      "71         NaN         NaN    NaN  NaN           0            1  \n",
      "95         NaN         NaN    NaN  NaN           0            1  \n",
      "47         NaN         NaN    NaN  NaN           0            1  \n",
      "27         NaN         NaN    NaN  NaN           0            1  \n",
      "61         NaN         NaN    NaN  NaN           0            1  \n",
      "37         NaN         NaN    NaN  NaN           0            1  \n",
      "13         NaN         NaN    NaN  NaN           0            1  \n",
      "19         NaN         NaN    NaN  NaN           0            1  \n",
      "65         NaN         NaN    NaN  NaN           0            1  \n",
      "97         NaN         NaN    NaN  NaN           0            1  \n",
      "67         NaN         NaN    NaN  NaN           0            1  \n",
      "25         NaN         NaN    NaN  NaN           0            1  \n",
      "79         NaN         NaN    NaN  NaN           0            1  \n",
      "51         NaN         NaN    NaN  NaN           0            1  \n",
      "17         NaN         NaN    NaN  NaN           0            1  \n",
      "81         NaN         NaN    NaN  NaN           0            1  \n",
      "43         NaN         NaN    NaN  NaN           0            1  \n",
      "87         NaN         NaN    NaN  NaN           0            1  \n",
      "49         NaN         NaN    NaN  NaN           0            1  \n",
      "9          NaN         NaN    NaN  NaN           0            1  \n",
      "23         NaN         NaN    NaN  NaN           0            1  \n",
      "53         NaN         NaN    NaN  NaN           0            1  \n",
      "1          NaN         0.0    NaN  NaN           0            1  \n",
      "59         NaN         NaN    NaN  NaN           0            1  \n",
      "77         NaN         NaN    NaN  NaN           0            1  \n",
      "15         NaN         NaN    NaN  NaN           0            1  \n",
      "99         NaN         NaN    NaN  NaN           0            1  \n",
      "83         NaN         NaN    NaN  NaN           0            1  \n",
      "3          NaN         0.0    NaN  NaN           0            1  \n",
      "29         NaN         NaN    NaN  NaN           0            1  \n",
      "89         NaN         NaN    NaN  NaN           0            1  \n",
      "35         NaN         NaN    NaN  NaN           0            1  \n",
      "41         NaN         NaN    NaN  NaN           0            1  \n",
      "31         NaN         NaN    NaN  NaN           0            1  \n",
      "69         NaN         NaN    NaN  NaN           0            1  \n",
      "85         NaN         NaN    NaN  NaN           0            1  \n",
      "73         NaN         NaN    NaN  NaN           0            1  \n",
      "63         NaN         NaN    NaN  NaN           0            1  \n",
      "5          NaN         NaN    NaN  NaN           0            1  \n",
      "45         NaN         NaN    NaN  NaN           0            1  \n",
      "33         NaN         NaN    NaN  NaN           0            1  \n",
      "93         NaN         NaN    NaN  NaN           0            1  \n",
      "11         NaN         NaN    NaN  NaN           0            1  \n",
      "21         NaN         NaN    NaN  NaN           0            1  \n",
      "39         NaN         NaN    NaN  NaN           0            1  \n",
      "55         NaN         NaN    NaN  NaN           0            1  \n",
      "75         NaN         NaN    NaN  NaN           0            1  \n"
     ]
    }
   ],
   "source": [
    "odd_rows = data.iloc[np.arange(1, data.shape[0], 2)]\n",
    "print(odd_rows.sample(frac=1))"
   ]
  },
  {
   "cell_type": "code",
   "execution_count": 91,
   "id": "f279e1bf-d949-4ffe-8618-1703c443662e",
   "metadata": {},
   "outputs": [
    {
     "name": "stdout",
     "output_type": "stream",
     "text": [
      "Number of columns: 11\n",
      "Column names: ['Sepal Length ', 'Sepal Width ', 'Petal Length ', 'Petal Width ', 'Class', 'Unnamed: 5', 'Unnamed: 6', 'alpha', 'obj', 'Unnamed: 9', 'Unnamed: 10']\n"
     ]
    }
   ],
   "source": [
    "num_columns = df.shape[1]\n",
    "column_names = df.columns.tolist()\n",
    "print(f\"Number of columns: {num_columns}\")\n",
    "print(f\"Column names: {column_names}\")"
   ]
  },
  {
   "cell_type": "code",
   "execution_count": 93,
   "id": "9dcb2e52-1f2e-428b-842d-aebcde513ea5",
   "metadata": {},
   "outputs": [
    {
     "name": "stdout",
     "output_type": "stream",
     "text": [
      "Shape of the dataset: (100, 11)\n"
     ]
    }
   ],
   "source": [
    "dataset_shape = df.shape\n",
    "print(f\"Shape of the dataset: {dataset_shape}\")\n"
   ]
  },
  {
   "cell_type": "code",
   "execution_count": 95,
   "id": "d81d4539-f5e1-436a-98b1-71995be98087",
   "metadata": {},
   "outputs": [
    {
     "name": "stdout",
     "output_type": "stream",
     "text": [
      "    Sepal Length   Sepal Width   Petal Length   Petal Width             Class  \\\n",
      "10            5.0           2.0            3.5           1.0  Iris-versicolor   \n",
      "11            5.9           3.0            4.2           1.5  Iris-versicolor   \n",
      "12            6.0           2.2            4.0           1.0  Iris-versicolor   \n",
      "13            6.1           2.9            4.7           1.4  Iris-versicolor   \n",
      "14            5.6           2.9            3.6           1.3  Iris-versicolor   \n",
      "15            6.7           3.1            4.4           1.4  Iris-versicolor   \n",
      "16            5.6           3.0            4.5           1.5  Iris-versicolor   \n",
      "17            5.8           2.7            4.1           1.0  Iris-versicolor   \n",
      "18            6.2           2.2            4.5           1.5  Iris-versicolor   \n",
      "19            5.6           2.5            3.9           1.1  Iris-versicolor   \n",
      "\n",
      "    Unnamed: 5  Unnamed: 6  alpha  obj  Unnamed: 9  Unnamed: 10  \n",
      "10         NaN         NaN    NaN  NaN           0            1  \n",
      "11         NaN         NaN    NaN  NaN           0            1  \n",
      "12         NaN         NaN    NaN  NaN           0            1  \n",
      "13         NaN         NaN    NaN  NaN           0            1  \n",
      "14         NaN         NaN    NaN  NaN           0            1  \n",
      "15         NaN         NaN    NaN  NaN           0            1  \n",
      "16         NaN         NaN    NaN  NaN           0            1  \n",
      "17         NaN         NaN    NaN  NaN           0            1  \n",
      "18         NaN         NaN    NaN  NaN           0            1  \n",
      "19         NaN         NaN    NaN  NaN           0            1  \n"
     ]
    }
   ],
   "source": [
    "sliced_rows = df[10:20]\n",
    "print(sliced_rows)"
   ]
  },
  {
   "cell_type": "code",
   "execution_count": 97,
   "id": "4c87c38e-5415-4c74-adf5-3f68115e9346",
   "metadata": {},
   "outputs": [
    {
     "name": "stdout",
     "output_type": "stream",
     "text": [
      "              Class\n",
      "0   Iris-versicolor\n",
      "1   Iris-versicolor\n",
      "2   Iris-versicolor\n",
      "3   Iris-versicolor\n",
      "4   Iris-versicolor\n",
      "..              ...\n",
      "95      Iris-setosa\n",
      "96      Iris-setosa\n",
      "97      Iris-setosa\n",
      "98      Iris-setosa\n",
      "99      Iris-setosa\n",
      "\n",
      "[100 rows x 1 columns]\n"
     ]
    }
   ],
   "source": [
    "specific_columns = df[['Class',]]\n",
    "print(specific_columns)"
   ]
  },
  {
   "cell_type": "code",
   "execution_count": 99,
   "id": "9f1302c4-92f4-4f83-8f5e-f3b2c26b9116",
   "metadata": {},
   "outputs": [
    {
     "name": "stdout",
     "output_type": "stream",
     "text": [
      "   Sepal Length   Sepal Width   Petal Length   Petal Width             Class  \\\n",
      "0            7.0           3.2            4.7           1.4  Iris-versicolor   \n",
      "1            6.4           3.2            4.5           1.5  Iris-versicolor   \n",
      "2            6.9           3.1            4.9           1.5  Iris-versicolor   \n",
      "3            5.5           2.3            4.0           1.3  Iris-versicolor   \n",
      "4            6.5           2.8            4.6           1.5  Iris-versicolor   \n",
      "\n",
      "   Unnamed: 5  Unnamed: 6  alpha  obj  Unnamed: 9  Unnamed: 10  \n",
      "0         NaN         0.0    0.0  0.0           0            1  \n",
      "1         NaN         0.0    NaN  NaN           0            1  \n",
      "2         NaN         0.0    NaN  NaN           0            1  \n",
      "3         NaN         0.0    NaN  NaN           0            1  \n",
      "4         NaN         NaN    NaN  NaN           0            1  \n",
      "   Sepal Length   Sepal Width   Petal Length   Petal Width             Class  \\\n",
      "0            7.0           3.2            4.7           1.4  Iris-versicolor   \n",
      "1            6.4           3.2            4.5           1.5  Iris-versicolor   \n",
      "2            6.9           3.1            4.9           1.5  Iris-versicolor   \n",
      "3            5.5           2.3            4.0           1.3  Iris-versicolor   \n",
      "4            6.5           2.8            4.6           1.5  Iris-versicolor   \n",
      "5            5.7           2.8            4.5           1.3  Iris-versicolor   \n",
      "\n",
      "   Unnamed: 5  Unnamed: 6  alpha  obj  Unnamed: 9  Unnamed: 10  \n",
      "0         NaN         0.0    0.0  0.0           0            1  \n",
      "1         NaN         0.0    NaN  NaN           0            1  \n",
      "2         NaN         0.0    NaN  NaN           0            1  \n",
      "3         NaN         0.0    NaN  NaN           0            1  \n",
      "4         NaN         NaN    NaN  NaN           0            1  \n",
      "5         NaN         NaN    NaN  NaN           0            1  \n"
     ]
    }
   ],
   "source": [
    "iloc_rows = df.iloc[0:5]\n",
    "print(iloc_rows)\n",
    "loc_rows = df.loc[0:5]\n",
    "print(loc_rows)\n"
   ]
  },
  {
   "cell_type": "code",
   "execution_count": 101,
   "id": "faa1b335-fe79-4c7f-877e-71d6374658de",
   "metadata": {},
   "outputs": [],
   "source": [
    "df.columns=df.columns.str.strip()"
   ]
  },
  {
   "cell_type": "code",
   "execution_count": 103,
   "id": "0b5acc0a-f6f6-4e34-9828-0d8e614f99fc",
   "metadata": {},
   "outputs": [
    {
     "name": "stdout",
     "output_type": "stream",
     "text": [
      "Sum: 547.1, Mean: 5.471, Mode: 5.0\n"
     ]
    }
   ],
   "source": [
    "column_sum = df['Sepal Length'].sum()\n",
    "column_mean = df['Sepal Length'].mean()\n",
    "column_mode = df['Sepal Length'].mode().values[0]\n",
    "print(f\"Sum: {column_sum}, Mean: {column_mean}, Mode: {column_mode}\")"
   ]
  },
  {
   "cell_type": "code",
   "execution_count": 105,
   "id": "64ef52f9-56ad-44e8-a7cc-8833768488f6",
   "metadata": {},
   "outputs": [
    {
     "name": "stdout",
     "output_type": "stream",
     "text": [
      "Minimum: 4.3, Maximum: 7.0\n"
     ]
    }
   ],
   "source": [
    "column_min = df['Sepal Length'].min()\n",
    "column_max = df['Sepal Length'].max()\n",
    "print(f\"Minimum: {column_min}, Maximum: {column_max}\")"
   ]
  },
  {
   "cell_type": "code",
   "execution_count": 107,
   "id": "bde54e1b-6e77-44fc-afec-dfe508926bea",
   "metadata": {},
   "outputs": [
    {
     "name": "stdout",
     "output_type": "stream",
     "text": [
      "   Sepal Length  Sepal Width  Petal Length  Petal Width            Class  \\\n",
      "0           7.0          3.2           4.7          1.4  Iris-versicolor   \n",
      "1           6.4          3.2           4.5          1.5  Iris-versicolor   \n",
      "2           6.9          3.1           4.9          1.5  Iris-versicolor   \n",
      "3           5.5          2.3           4.0          1.3  Iris-versicolor   \n",
      "4           6.5          2.8           4.6          1.5  Iris-versicolor   \n",
      "\n",
      "   Unnamed: 5  Unnamed: 6  alpha  obj  Unnamed: 9  Unnamed: 10  NewColumn  \n",
      "0         NaN         0.0    0.0  0.0           0            1       14.0  \n",
      "1         NaN         0.0    NaN  NaN           0            1       12.8  \n",
      "2         NaN         0.0    NaN  NaN           0            1       13.8  \n",
      "3         NaN         0.0    NaN  NaN           0            1       11.0  \n",
      "4         NaN         NaN    NaN  NaN           0            1       13.0  \n"
     ]
    }
   ],
   "source": [
    "df['NewColumn'] = df['Sepal Length'] * 2\n",
    "print(df.head())"
   ]
  },
  {
   "cell_type": "code",
   "execution_count": 109,
   "id": "205243a2-82f6-4b90-9dab-b25a2493ba87",
   "metadata": {},
   "outputs": [
    {
     "name": "stdout",
     "output_type": "stream",
     "text": [
      "Index(['Sepal Length', 'Sepal Width', 'Petal Length', 'Petal Width', 'Class',\n",
      "       'Unnamed: 5', 'Unnamed: 6', 'alpha', 'obj', 'Unnamed: 9', 'Unnamed: 10',\n",
      "       'NewColumn'],\n",
      "      dtype='object')\n"
     ]
    }
   ],
   "source": [
    "df.rename(columns={'SepalLengthCm': 'Sepal Length', 'SepalWidthCm': 'Sepal Width'}, inplace=True)\n",
    "print(df.columns)"
   ]
  },
  {
   "cell_type": "code",
   "execution_count": 111,
   "id": "65974438-3f73-432c-9ff2-8709f8f2489f",
   "metadata": {},
   "outputs": [
    {
     "name": "stdout",
     "output_type": "stream",
     "text": [
      "Missing values in each column:\n",
      "Sepal Length      0\n",
      "Sepal Width       0\n",
      "Petal Length      0\n",
      "Petal Width       0\n",
      "Class             0\n",
      "Unnamed: 5      100\n",
      "Unnamed: 6       96\n",
      "alpha            99\n",
      "obj              99\n",
      "Unnamed: 9        0\n",
      "Unnamed: 10       0\n",
      "NewColumn         0\n",
      "dtype: int64\n"
     ]
    }
   ],
   "source": [
    "missing_values = df.isnull().sum()\n",
    "print(f\"Missing values in each column:\\n{missing_values}\")"
   ]
  },
  {
   "cell_type": "code",
   "execution_count": 117,
   "id": "f85acfa1-e255-4b78-9f01-7a879ab239f8",
   "metadata": {},
   "outputs": [
    {
     "name": "stderr",
     "output_type": "stream",
     "text": [
      "C:\\Users\\swarn\\anaconda3\\Lib\\site-packages\\seaborn\\matrix.py:260: FutureWarning: Format strings passed to MaskedConstant are ignored, but in future may error or produce different behavior\n",
      "  annotation = (\"{:\" + self.fmt + \"}\").format(val)\n"
     ]
    },
    {
     "data": {
      "image/png": "[encoded data removed]",
      "text/plain": [
       "<Figure size 1000x600 with 2 Axes>"
      ]
     },
     "metadata": {},
     "output_type": "display_data"
    }
   ],
   "source": [
    "import pandas as pd\n",
    "import seaborn as sns\n",
    "import matplotlib.pyplot as plt\n",
    "numeric_df = df.select_dtypes(include=['number'])\n",
    "plt.figure(figsize=(10, 6))\n",
    "sns.heatmap(numeric_df.corr(), annot=True, cmap='coolwarm')\n",
    "plt.title('Correlation Heatmap')\n",
    "plt.show()\n"
   ]
  },
  {
   "cell_type": "code",
   "execution_count": null,
   "id": "93724b49-e674-4d45-bb1a-064c3f3de166",
   "metadata": {},
   "outputs": [],
   "source": []
  }
 ],
 "metadata": {
  "kernelspec": {
   "display_name": "Python 3 (ipykernel)",
   "language": "python",
   "name": "python3"
  },
  "language_info": {
   "codemirror_mode": {
    "name": "ipython",
    "version": 3
   },
   "file_extension": ".py",
   "mimetype": "text/x-python",
   "name": "python",
   "nbconvert_exporter": "python",
   "pygments_lexer": "ipython3",
   "version": "3.11.7"
  }
 },
 "nbformat": 4,
 "nbformat_minor": 5
}
