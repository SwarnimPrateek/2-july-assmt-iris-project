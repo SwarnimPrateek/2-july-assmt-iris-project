{
 "cells": [
  {
   "cell_type": "markdown",
   "id": "ead150fa-f7e6-40e1-b775-f7c9a80bf684",
   "metadata": {},
   "source": [
    "HEART DISEASE PREDICTION "
   ]
  },
  {
   "cell_type": "code",
   "execution_count": 2,
   "id": "564669da-d889-4c8a-9c0e-c437de4ad766",
   "metadata": {},
   "outputs": [
    {
     "name": "stdout",
     "output_type": "stream",
     "text": [
      "Precision: 0.84375\n",
      "Recall: 0.84375\n",
      "F Score: 0.84375\n",
      "Accuracy: 0.8360655737704918\n",
      "Sensitivity: 0.84375\n",
      "Specificity: 0.8275862068965517\n"
     ]
    }
   ],
   "source": [
    "import pandas as pd\n",
    "from sklearn.model_selection import train_test_split\n",
    "from sklearn.ensemble import RandomForestClassifier\n",
    "from sklearn.metrics import precision_score, recall_score, f1_score, accuracy_score, confusion_matrix\n",
    "\n",
    "file_path = (r\"C:\\Users\\swarn\\OneDrive\\Desktop\\heart.csv\")\n",
    "df = pd.read_csv(file_path)\n",
    "\n",
    "X = df.drop(columns='target')\n",
    "y = df['target']\n",
    "X_train, X_test, y_train, y_test = train_test_split(X, y, test_size=0.2, random_state=42)\n",
    "model = RandomForestClassifier(random_state=42)\n",
    "model.fit(X_train, y_train)\n",
    "\n",
    "y_pred = model.predict(X_test)\n",
    "\n",
    "precision = precision_score(y_test, y_pred)\n",
    "recall = recall_score(y_test, y_pred)\n",
    "f1 = f1_score(y_test, y_pred)\n",
    "accuracy = accuracy_score(y_test, y_pred)\n",
    "\n",
    "tn, fp, fn, tp = confusion_matrix(y_test, y_pred).ravel()\n",
    "sensitivity = recall\n",
    "specificity = tn / (tn + fp)\n",
    "\n",
    "print(f'Precision: {precision}')\n",
    "print(f'Recall: {recall}')\n",
    "print(f'F Score: {f1}')\n",
    "print(f'Accuracy: {accuracy}')\n",
    "print(f'Sensitivity: {sensitivity}')\n",
    "print(f'Specificity: {specificity}')\n"
   ]
  },
  {
   "cell_type": "code",
   "execution_count": 9,
   "id": "98088841-8b4b-4189-9b65-fce5911cebe0",
   "metadata": {},
   "outputs": [
    {
     "name": "stdout",
     "output_type": "stream",
     "text": [
      "Shape of the data: (303, 14)\n"
     ]
    }
   ],
   "source": [
    "import pandas as pd\n",
    "data = df.shape\n",
    "print(\"Shape of the data:\",data)"
   ]
  },
  {
   "cell_type": "code",
   "execution_count": null,
   "id": "fb0ff282-713c-4c94-b927-5aec744c9107",
   "metadata": {},
   "outputs": [],
   "source": [
    "male_count = df[df['sex'] == 1].shape[0]\n",
    "female_count = df[df['sex'] == 0].shape[0]\n",
    "\n",
    "male_count, female_count"
   ]
  },
  {
   "cell_type": "code",
   "execution_count": null,
   "id": "295c4022-4225-4e3b-a28a-4f7e481a9db9",
   "metadata": {},
   "outputs": [],
   "source": [
    "df['age_group'] = pd.cut(df['age'], bins=[30, 40, 50, 60, 70, 80], labels=[\"30-40\", \"40-50\", \"50-60\", \"60-70\", \"70-80\"])\n",
    "age_group_counts = df['age_group'].value_counts()\n",
    "\n",
    "age_group_counts"
   ]
  },
  {
   "cell_type": "code",
   "execution_count": null,
   "id": "76a0e09c-cb1c-4ce3-946b-3bf7e46c804b",
   "metadata": {},
   "outputs": [],
   "source": [
    "import seaborn as sns\n",
    "import matplotlib.pyplot as plt\n",
    "import warnings\n",
    "warnings.filterwarnings('ignore')\n",
    "columns_to_plot = ['trestbps', 'chol', 'fbs', 'restecg', 'thalach', 'ca']\n",
    "\n",
    "plt.figure(figsize=(15, 10))\n",
    "for i, column in enumerate(columns_to_plot, 1):\n",
    "    plt.subplot(2, 3, i)\n",
    "    sns.histplot(df[column], kde=True)\n",
    "    plt.title(f'Distribution of {column}')\n",
    "plt.tight_layout()\n",
    "plt.show()"
   ]
  },
  {
   "cell_type": "code",
   "execution_count": null,
   "id": "09c947b6-7fbd-4a8c-95ee-a831f026eb76",
   "metadata": {},
   "outputs": [],
   "source": []
  }
 ],
 "metadata": {
  "kernelspec": {
   "display_name": "Python 3 (ipykernel)",
   "language": "python",
   "name": "python3"
  },
  "language_info": {
   "codemirror_mode": {
    "name": "ipython",
    "version": 3
   },
   "file_extension": ".py",
   "mimetype": "text/x-python",
   "name": "python",
   "nbconvert_exporter": "python",
   "pygments_lexer": "ipython3",
   "version": "3.11.7"
  }
 },
 "nbformat": 4,
 "nbformat_minor": 5
}
