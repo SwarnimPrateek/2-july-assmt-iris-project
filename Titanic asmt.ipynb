{
 "cells": [
  {
   "cell_type": "code",
   "execution_count": 1,
   "id": "88d59722-72a9-42a3-9a8a-5e3b5a777a96",
   "metadata": {},
   "outputs": [],
   "source": [
    "import pandas as pd\n",
    "import matplotlib.pyplot as plt\n",
    "import seaborn as sns"
   ]
  },
  {
   "cell_type": "code",
   "execution_count": 5,
   "id": "d9dbc24a-3fdd-42d6-9bc5-0cd765b2acad",
   "metadata": {},
   "outputs": [
    {
     "data": {
      "text/html": [
       "<div>\n",
       "<style scoped>\n",
       "    .dataframe tbody tr th:only-of-type {\n",
       "        vertical-align: middle;\n",
       "    }\n",
       "\n",
       "    .dataframe tbody tr th {\n",
       "        vertical-align: top;\n",
       "    }\n",
       "\n",
       "    .dataframe thead th {\n",
       "        text-align: right;\n",
       "    }\n",
       "</style>\n",
       "<table border=\"1\" class=\"dataframe\">\n",
       "  <thead>\n",
       "    <tr style=\"text-align: right;\">\n",
       "      <th></th>\n",
       "      <th>pclass</th>\n",
       "      <th>survived</th>\n",
       "      <th>name</th>\n",
       "      <th>sex</th>\n",
       "      <th>age</th>\n",
       "      <th>sibsp</th>\n",
       "      <th>parch</th>\n",
       "      <th>ticket</th>\n",
       "      <th>fare</th>\n",
       "      <th>cabin</th>\n",
       "      <th>embarked</th>\n",
       "      <th>boat</th>\n",
       "      <th>body</th>\n",
       "      <th>home.dest</th>\n",
       "    </tr>\n",
       "  </thead>\n",
       "  <tbody>\n",
       "    <tr>\n",
       "      <th>0</th>\n",
       "      <td>1</td>\n",
       "      <td>1</td>\n",
       "      <td>Allen, Miss. Elisabeth Walton</td>\n",
       "      <td>female</td>\n",
       "      <td>29.00</td>\n",
       "      <td>0</td>\n",
       "      <td>0</td>\n",
       "      <td>24160</td>\n",
       "      <td>211.3375</td>\n",
       "      <td>B5</td>\n",
       "      <td>S</td>\n",
       "      <td>2</td>\n",
       "      <td>NaN</td>\n",
       "      <td>St Louis, MO</td>\n",
       "    </tr>\n",
       "    <tr>\n",
       "      <th>1</th>\n",
       "      <td>1</td>\n",
       "      <td>1</td>\n",
       "      <td>Allison, Master. Hudson Trevor</td>\n",
       "      <td>male</td>\n",
       "      <td>0.92</td>\n",
       "      <td>1</td>\n",
       "      <td>2</td>\n",
       "      <td>113781</td>\n",
       "      <td>151.5500</td>\n",
       "      <td>C22 C26</td>\n",
       "      <td>S</td>\n",
       "      <td>11</td>\n",
       "      <td>NaN</td>\n",
       "      <td>Montreal, PQ / Chesterville, ON</td>\n",
       "    </tr>\n",
       "    <tr>\n",
       "      <th>2</th>\n",
       "      <td>1</td>\n",
       "      <td>0</td>\n",
       "      <td>Allison, Miss. Helen Loraine</td>\n",
       "      <td>female</td>\n",
       "      <td>2.00</td>\n",
       "      <td>1</td>\n",
       "      <td>2</td>\n",
       "      <td>113781</td>\n",
       "      <td>151.5500</td>\n",
       "      <td>C22 C26</td>\n",
       "      <td>S</td>\n",
       "      <td>NaN</td>\n",
       "      <td>NaN</td>\n",
       "      <td>Montreal, PQ / Chesterville, ON</td>\n",
       "    </tr>\n",
       "    <tr>\n",
       "      <th>3</th>\n",
       "      <td>1</td>\n",
       "      <td>0</td>\n",
       "      <td>Allison, Mr. Hudson Joshua Creighton</td>\n",
       "      <td>male</td>\n",
       "      <td>30.00</td>\n",
       "      <td>1</td>\n",
       "      <td>2</td>\n",
       "      <td>113781</td>\n",
       "      <td>151.5500</td>\n",
       "      <td>C22 C26</td>\n",
       "      <td>S</td>\n",
       "      <td>NaN</td>\n",
       "      <td>135.0</td>\n",
       "      <td>Montreal, PQ / Chesterville, ON</td>\n",
       "    </tr>\n",
       "    <tr>\n",
       "      <th>4</th>\n",
       "      <td>1</td>\n",
       "      <td>0</td>\n",
       "      <td>Allison, Mrs. Hudson J C (Bessie Waldo Daniels)</td>\n",
       "      <td>female</td>\n",
       "      <td>25.00</td>\n",
       "      <td>1</td>\n",
       "      <td>2</td>\n",
       "      <td>113781</td>\n",
       "      <td>151.5500</td>\n",
       "      <td>C22 C26</td>\n",
       "      <td>S</td>\n",
       "      <td>NaN</td>\n",
       "      <td>NaN</td>\n",
       "      <td>Montreal, PQ / Chesterville, ON</td>\n",
       "    </tr>\n",
       "  </tbody>\n",
       "</table>\n",
       "</div>"
      ],
      "text/plain": [
       "   pclass  survived                                             name     sex  \\\n",
       "0       1         1                    Allen, Miss. Elisabeth Walton  female   \n",
       "1       1         1                   Allison, Master. Hudson Trevor    male   \n",
       "2       1         0                     Allison, Miss. Helen Loraine  female   \n",
       "3       1         0             Allison, Mr. Hudson Joshua Creighton    male   \n",
       "4       1         0  Allison, Mrs. Hudson J C (Bessie Waldo Daniels)  female   \n",
       "\n",
       "     age  sibsp  parch  ticket      fare    cabin embarked boat   body  \\\n",
       "0  29.00      0      0   24160  211.3375       B5        S    2    NaN   \n",
       "1   0.92      1      2  113781  151.5500  C22 C26        S   11    NaN   \n",
       "2   2.00      1      2  113781  151.5500  C22 C26        S  NaN    NaN   \n",
       "3  30.00      1      2  113781  151.5500  C22 C26        S  NaN  135.0   \n",
       "4  25.00      1      2  113781  151.5500  C22 C26        S  NaN    NaN   \n",
       "\n",
       "                         home.dest  \n",
       "0                     St Louis, MO  \n",
       "1  Montreal, PQ / Chesterville, ON  \n",
       "2  Montreal, PQ / Chesterville, ON  \n",
       "3  Montreal, PQ / Chesterville, ON  \n",
       "4  Montreal, PQ / Chesterville, ON  "
      ]
     },
     "execution_count": 5,
     "metadata": {},
     "output_type": "execute_result"
    }
   ],
   "source": [
    "file_path = 'titanic.csv'\n",
    "titanic_data = pd.read_csv(file_path)\n",
    "titanic_data.head()"
   ]
  },
  {
   "cell_type": "code",
   "execution_count": 47,
   "id": "5004793d-9de8-498b-9739-09bc5e218373",
   "metadata": {},
   "outputs": [
    {
     "name": "stdout",
     "output_type": "stream",
     "text": [
      "Gender Counts:\n",
      " sex\n",
      "male      843\n",
      "female    466\n",
      "Name: count, dtype: int64\n"
     ]
    },
    {
     "data": {
      "image/png": "[encoded data removed]",
      "text/plain": [
       "<Figure size 400x200 with 1 Axes>"
      ]
     },
     "metadata": {},
     "output_type": "display_data"
    }
   ],
   "source": [
    "gender_counts = titanic_data['sex'].value_counts()\n",
    "print(\"Gender Counts:\\n\", gender_counts)\n",
    "\n",
    "plt.figure(figsize=(4,2))\n",
    "sns.countplot(data=titanic_data, x='sex')\n",
    "plt.title('Total Number of Males and Females')\n",
    "plt.xlabel('sex')\n",
    "plt.ylabel('Count')\n",
    "plt.show()"
   ]
  },
  {
   "cell_type": "code",
   "execution_count": 11,
   "id": "095495aa-6937-4265-a0b4-e4426dbce853",
   "metadata": {},
   "outputs": [
    {
     "name": "stdout",
     "output_type": "stream",
     "text": [
      "Average Mean Fare: 33.29547928134557\n"
     ]
    }
   ],
   "source": [
    "mean_fare = titanic_data['fare'].mean()\n",
    "print(\"Average Mean Fare:\", mean_fare)"
   ]
  },
  {
   "cell_type": "code",
   "execution_count": 45,
   "id": "97778955-94c8-471a-9189-394bf1310dd3",
   "metadata": {},
   "outputs": [
    {
     "name": "stdout",
     "output_type": "stream",
     "text": [
      "Ticket Counts:\n",
      " ticket\n",
      "CA. 2343    11\n",
      "1601         8\n",
      "CA 2144      8\n",
      "PC 17608     7\n",
      "347077       7\n",
      "Name: count, dtype: int64\n"
     ]
    },
    {
     "data": {
      "image/png": "[encoded data removed]",
      "text/plain": [
       "<Figure size 1200x600 with 1 Axes>"
      ]
     },
     "metadata": {},
     "output_type": "display_data"
    }
   ],
   "source": [
    "ticket_counts = titanic_data['ticket'].value_counts()\n",
    "print(\"Ticket Counts:\\n\", ticket_counts.head())\n",
    "\n",
    "\n",
    "plt.figure(figsize=(12, 6))\n",
    "sns.countplot(data=titanic_data, y='ticket', order=titanic_data['ticket'].value_counts().index[:10])\n",
    "plt.title('Top 10 Types of Tickets')\n",
    "plt.xlabel('Count')\n",
    "plt.ylabel('Ticket')\n",
    "plt.show()\n"
   ]
  },
  {
   "cell_type": "code",
   "execution_count": 27,
   "id": "792e3733-eed2-48ff-a8dc-106d009080e4",
   "metadata": {},
   "outputs": [
    {
     "name": "stdout",
     "output_type": "stream",
     "text": [
      "Male Data Sample:\n",
      "    pclass  survived                                  name   sex    age  sibsp  \\\n",
      "1       1         1        Allison, Master. Hudson Trevor  male   0.92      1   \n",
      "3       1         0  Allison, Mr. Hudson Joshua Creighton  male  30.00      1   \n",
      "5       1         1                   Anderson, Mr. Harry  male  48.00      0   \n",
      "7       1         0                Andrews, Mr. Thomas Jr  male  39.00      0   \n",
      "9       1         0               Artagaveytia, Mr. Ramon  male  71.00      0   \n",
      "\n",
      "   parch    ticket      fare    cabin embarked boat   body  \\\n",
      "1      2    113781  151.5500  C22 C26        S   11    NaN   \n",
      "3      2    113781  151.5500  C22 C26        S  NaN  135.0   \n",
      "5      0     19952   26.5500      E12        S    3    NaN   \n",
      "7      0    112050    0.0000      A36        S  NaN    NaN   \n",
      "9      0  PC 17609   49.5042      NaN        C  NaN   22.0   \n",
      "\n",
      "                         home.dest  \n",
      "1  Montreal, PQ / Chesterville, ON  \n",
      "3  Montreal, PQ / Chesterville, ON  \n",
      "5                     New York, NY  \n",
      "7                      Belfast, NI  \n",
      "9              Montevideo, Uruguay  \n",
      "Female Data Sample:\n",
      "    pclass  survived                                             name     sex  \\\n",
      "0       1         1                    Allen, Miss. Elisabeth Walton  female   \n",
      "2       1         0                     Allison, Miss. Helen Loraine  female   \n",
      "4       1         0  Allison, Mrs. Hudson J C (Bessie Waldo Daniels)  female   \n",
      "6       1         1                Andrews, Miss. Kornelia Theodosia  female   \n",
      "8       1         1    Appleton, Mrs. Edward Dale (Charlotte Lamson)  female   \n",
      "\n",
      "    age  sibsp  parch  ticket      fare    cabin embarked boat  body  \\\n",
      "0  29.0      0      0   24160  211.3375       B5        S    2   NaN   \n",
      "2   2.0      1      2  113781  151.5500  C22 C26        S  NaN   NaN   \n",
      "4  25.0      1      2  113781  151.5500  C22 C26        S  NaN   NaN   \n",
      "6  63.0      1      0   13502   77.9583       D7        S   10   NaN   \n",
      "8  53.0      2      0   11769   51.4792     C101        S    D   NaN   \n",
      "\n",
      "                         home.dest  \n",
      "0                     St Louis, MO  \n",
      "2  Montreal, PQ / Chesterville, ON  \n",
      "4  Montreal, PQ / Chesterville, ON  \n",
      "6                       Hudson, NY  \n",
      "8              Bayside, Queens, NY  \n"
     ]
    }
   ],
   "source": [
    "male_data = titanic_data[titanic_data['sex'] == 'male']\n",
    "female_data = titanic_data[titanic_data['sex'] == 'female']\n",
    "print(\"Male Data Sample:\\n\", male_data.head())\n",
    "print(\"Female Data Sample:\\n\", female_data.head())"
   ]
  },
  {
   "cell_type": "code",
   "execution_count": 33,
   "id": "0df708ac-01e5-4b88-917a-c6f9e035b7a0",
   "metadata": {},
   "outputs": [
    {
     "name": "stdout",
     "output_type": "stream",
     "text": [
      "Most Populated Home Destination: S\n",
      "Least Populated Home Destination: Q\n"
     ]
    }
   ],
   "source": [
    "home_dest_counts = titanic_data['embarked'].value_counts()\n",
    "most_populated_home_dest = home_dest_counts.idxmax()\n",
    "least_populated_home_dest = home_dest_counts.idxmin()\n",
    "\n",
    "print(\"Most Populated Home Destination:\", most_populated_home_dest)\n",
    "print(\"Least Populated Home Destination:\", least_populated_home_dest)"
   ]
  },
  {
   "cell_type": "code",
   "execution_count": 41,
   "id": "66908120-0b44-48ee-a4a3-fa8f99619d9b",
   "metadata": {},
   "outputs": [
    {
     "data": {
      "image/png": "[encoded data removed]",
      "text/plain": [
       "<Figure size 500x300 with 1 Axes>"
      ]
     },
     "metadata": {},
     "output_type": "display_data"
    }
   ],
   "source": [
    "plt.figure(figsize=(5,3))\n",
    "sns.countplot(data=titanic_data, x='embarked')\n",
    "plt.title('Home Destinations Count')\n",
    "plt.xlabel('Home Destination')\n",
    "plt.ylabel('Count')\n",
    "plt.show()"
   ]
  },
  {
   "cell_type": "code",
   "execution_count": 49,
   "id": "984230ea-1c50-4b10-bca0-6c89a2301b24",
   "metadata": {},
   "outputs": [
    {
     "name": "stdout",
     "output_type": "stream",
     "text": [
      "Total number of parents/children aboard: 504\n"
     ]
    }
   ],
   "source": [
    "total_parch = titanic_data['parch'].sum()\n",
    "print(f\"Total number of parents/children aboard: {total_parch}\")"
   ]
  },
  {
   "cell_type": "code",
   "execution_count": 70,
   "id": "985165c0-a355-4d3f-bbc0-6316e5679a96",
   "metadata": {},
   "outputs": [],
   "source": [
    "import pandas as pd\n",
    "from sklearn.preprocessing import LabelEncoder\n",
    "\n",
    "titanic_df = titanic_data.copy()"
   ]
  },
  {
   "cell_type": "code",
   "execution_count": 72,
   "id": "b0181099-37bc-49da-967b-45fa11d9b4b1",
   "metadata": {},
   "outputs": [
    {
     "name": "stdout",
     "output_type": "stream",
     "text": [
      "Correlation between 'Survived' and 'Embarked': nan\n"
     ]
    }
   ],
   "source": [
    "titanic_data['embarked'] = titanic_data['embarked'].map({'C': 1, 'S': 2, 'Q': 3})\n",
    "correlation = titanic_data['survived'].corr(titanic_data['embarked'])\n",
    "print(f\"Correlation between 'Survived' and 'Embarked': {correlation}\")"
   ]
  },
  {
   "cell_type": "code",
   "execution_count": 74,
   "id": "7eb48cfd-4d96-4592-bfee-7fe70c1181c2",
   "metadata": {},
   "outputs": [
    {
     "name": "stdout",
     "output_type": "stream",
     "text": [
      "Correlation between 'pclass' and 'Embarked': nan\n"
     ]
    }
   ],
   "source": [
    "correlation = titanic_data['pclass'].corr(titanic_data['embarked'])\n",
    "print(f\"Correlation between 'pclass' and 'Embarked': {correlation}\")"
   ]
  },
  {
   "cell_type": "code",
   "execution_count": null,
   "id": "b3a4d360-a6b3-461a-a83d-84a3f9fc2026",
   "metadata": {},
   "outputs": [],
   "source": []
  }
 ],
 "metadata": {
  "kernelspec": {
   "display_name": "Python 3 (ipykernel)",
   "language": "python",
   "name": "python3"
  },
  "language_info": {
   "codemirror_mode": {
    "name": "ipython",
    "version": 3
   },
   "file_extension": ".py",
   "mimetype": "text/x-python",
   "name": "python",
   "nbconvert_exporter": "python",
   "pygments_lexer": "ipython3",
   "version": "3.11.7"
  }
 },
 "nbformat": 4,
 "nbformat_minor": 5
}
